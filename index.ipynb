{
 "cells": [
  {
   "cell_type": "markdown",
   "metadata": {},
   "source": [
    "## Packages"
   ]
  },
  {
   "cell_type": "code",
   "execution_count": 36,
   "metadata": {},
   "outputs": [],
   "source": [
    "import numpy as np\n",
    "import pandas as pd\n",
    "import kagglehub\n",
    "import plotly as plt\n",
    "from sklearn.preprocessing import OneHotEncoder"
   ]
  },
  {
   "cell_type": "markdown",
   "metadata": {},
   "source": [
    "## Dataset import"
   ]
  },
  {
   "cell_type": "code",
   "execution_count": 37,
   "metadata": {},
   "outputs": [
    {
     "name": "stdout",
     "output_type": "stream",
     "text": [
      "Warning: Looks like you're using an outdated `kagglehub` version, please consider updating (latest version: 0.3.10)\n"
     ]
    }
   ],
   "source": [
    "path = kagglehub.dataset_download(\"debajyotipodder/co2-emission-by-vehicles\")\n",
    "df = pd.read_csv(path + \"/CO2 Emissions_Canada.csv\")"
   ]
  },
  {
   "cell_type": "markdown",
   "metadata": {},
   "source": [
    "## Data Exploration, Transformation & Cleaning"
   ]
  },
  {
   "cell_type": "code",
   "execution_count": 38,
   "metadata": {},
   "outputs": [
    {
     "name": "stdout",
     "output_type": "stream",
     "text": [
      "\n",
      "First 5 rows of the dataset:\n",
      "    Make       Model Vehicle Class  Engine Size(L)  Cylinders Transmission  \\\n",
      "0  ACURA         ILX       COMPACT             2.0          4          AS5   \n",
      "1  ACURA         ILX       COMPACT             2.4          4           M6   \n",
      "2  ACURA  ILX HYBRID       COMPACT             1.5          4          AV7   \n",
      "3  ACURA     MDX 4WD   SUV - SMALL             3.5          6          AS6   \n",
      "4  ACURA     RDX AWD   SUV - SMALL             3.5          6          AS6   \n",
      "\n",
      "  Fuel Type  Fuel Consumption City (L/100 km)  \\\n",
      "0         Z                               9.9   \n",
      "1         Z                              11.2   \n",
      "2         Z                               6.0   \n",
      "3         Z                              12.7   \n",
      "4         Z                              12.1   \n",
      "\n",
      "   Fuel Consumption Hwy (L/100 km)  Fuel Consumption Comb (L/100 km)  \\\n",
      "0                              6.7                               8.5   \n",
      "1                              7.7                               9.6   \n",
      "2                              5.8                               5.9   \n",
      "3                              9.1                              11.1   \n",
      "4                              8.7                              10.6   \n",
      "\n",
      "   Fuel Consumption Comb (mpg)  CO2 Emissions(g/km)  \n",
      "0                           33                  196  \n",
      "1                           29                  221  \n",
      "2                           48                  136  \n",
      "3                           25                  255  \n",
      "4                           27                  244  \n"
     ]
    }
   ],
   "source": [
    "print(\"\\nFirst 5 rows of the dataset:\")\n",
    "print(df.head())"
   ]
  },
  {
   "cell_type": "code",
   "execution_count": 39,
   "metadata": {},
   "outputs": [
    {
     "name": "stdout",
     "output_type": "stream",
     "text": [
      "\n",
      "Last 5 rows of the dataset:\n",
      "       Make        Model   Vehicle Class  Engine Size(L)  Cylinders  \\\n",
      "7380  VOLVO  XC40 T5 AWD     SUV - SMALL             2.0          4   \n",
      "7381  VOLVO  XC60 T5 AWD     SUV - SMALL             2.0          4   \n",
      "7382  VOLVO  XC60 T6 AWD     SUV - SMALL             2.0          4   \n",
      "7383  VOLVO  XC90 T5 AWD  SUV - STANDARD             2.0          4   \n",
      "7384  VOLVO  XC90 T6 AWD  SUV - STANDARD             2.0          4   \n",
      "\n",
      "     Transmission Fuel Type  Fuel Consumption City (L/100 km)  \\\n",
      "7380          AS8         Z                              10.7   \n",
      "7381          AS8         Z                              11.2   \n",
      "7382          AS8         Z                              11.7   \n",
      "7383          AS8         Z                              11.2   \n",
      "7384          AS8         Z                              12.2   \n",
      "\n",
      "      Fuel Consumption Hwy (L/100 km)  Fuel Consumption Comb (L/100 km)  \\\n",
      "7380                              7.7                               9.4   \n",
      "7381                              8.3                               9.9   \n",
      "7382                              8.6                              10.3   \n",
      "7383                              8.3                               9.9   \n",
      "7384                              8.7                              10.7   \n",
      "\n",
      "      Fuel Consumption Comb (mpg)  CO2 Emissions(g/km)  \n",
      "7380                           30                  219  \n",
      "7381                           29                  232  \n",
      "7382                           27                  240  \n",
      "7383                           29                  232  \n",
      "7384                           26                  248  \n"
     ]
    }
   ],
   "source": [
    "print(\"\\nLast 5 rows of the dataset:\")\n",
    "print(df.tail())\n"
   ]
  },
  {
   "cell_type": "markdown",
   "metadata": {},
   "source": [
    "#### Vehicle Classes:"
   ]
  },
  {
   "cell_type": "code",
   "execution_count": 40,
   "metadata": {},
   "outputs": [
    {
     "name": "stdout",
     "output_type": "stream",
     "text": [
      "['COMPACT' 'SUV - SMALL' 'MID-SIZE' 'TWO-SEATER' 'MINICOMPACT'\n",
      " 'SUBCOMPACT' 'FULL-SIZE' 'STATION WAGON - SMALL' 'SUV - STANDARD'\n",
      " 'VAN - CARGO' 'VAN - PASSENGER' 'PICKUP TRUCK - STANDARD' 'MINIVAN'\n",
      " 'SPECIAL PURPOSE VEHICLE' 'STATION WAGON - MID-SIZE'\n",
      " 'PICKUP TRUCK - SMALL']\n"
     ]
    }
   ],
   "source": [
    "print(df[\"Vehicle Class\"].unique())"
   ]
  },
  {
   "cell_type": "markdown",
   "metadata": {},
   "source": [
    "#### Transforming classes into numbers based on average size of the vehicle in this class from smallest to largest"
   ]
  },
  {
   "cell_type": "code",
   "execution_count": 41,
   "metadata": {},
   "outputs": [],
   "source": [
    "\n",
    "\n",
    "# Vehicle classes sorted from which are usually smaller to usually larger\n",
    "vehicle_classes = [\n",
    "    \"TWO-SEATER\", \"MINICOMPACT\", \"SUBCOMPACT\", \"COMPACT\", \"MID-SIZE\", \"FULL-SIZE\",\n",
    "    \"STATION WAGON - SMALL\", \"STATION WAGON - MID-SIZE\", \"SUV - SMALL\", \"SUV - STANDARD\",\n",
    "    \"PICKUP TRUCK - SMALL\", \"PICKUP TRUCK - STANDARD\", \"MINIVAN\",\n",
    "    \"VAN - PASSENGER\", \"VAN - CARGO\", \"SPECIAL PURPOSE VEHICLE\"\n",
    "]\n",
    "\n",
    "vehicle_class_numbers = {cls: i for i, cls in enumerate(vehicle_classes)}\n",
    "\n",
    "df[\"Vehicle Class\"] = df[\"Vehicle Class\"].map(vehicle_class_numbers)\n"
   ]
  },
  {
   "cell_type": "code",
   "execution_count": 42,
   "metadata": {},
   "outputs": [
    {
     "name": "stdout",
     "output_type": "stream",
     "text": [
      "0    3\n",
      "1    3\n",
      "2    3\n",
      "3    8\n",
      "4    8\n",
      "Name: Vehicle Class, dtype: int64\n",
      "7380    8\n",
      "7381    8\n",
      "7382    8\n",
      "7383    9\n",
      "7384    9\n",
      "Name: Vehicle Class, dtype: int64\n"
     ]
    }
   ],
   "source": [
    "print(df[\"Vehicle Class\"].head())\n",
    "print(df[\"Vehicle Class\"].tail())"
   ]
  },
  {
   "cell_type": "markdown",
   "metadata": {},
   "source": [
    "## Getting rid of untransformable categorical values and data irrelevan & biased for the model training such as brands, IDs."
   ]
  },
  {
   "cell_type": "code",
   "execution_count": null,
   "metadata": {},
   "outputs": [],
   "source": []
  }
 ],
 "metadata": {
  "kernelspec": {
   "display_name": "base",
   "language": "python",
   "name": "python3"
  },
  "language_info": {
   "codemirror_mode": {
    "name": "ipython",
    "version": 3
   },
   "file_extension": ".py",
   "mimetype": "text/x-python",
   "name": "python",
   "nbconvert_exporter": "python",
   "pygments_lexer": "ipython3",
   "version": "3.12.4"
  }
 },
 "nbformat": 4,
 "nbformat_minor": 2
}
